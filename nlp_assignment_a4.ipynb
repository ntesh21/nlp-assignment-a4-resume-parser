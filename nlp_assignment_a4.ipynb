{
 "cells": [
  {
   "cell_type": "markdown",
   "metadata": {},
   "source": [
    "### Resume Parsing"
   ]
  },
  {
   "cell_type": "code",
   "execution_count": 811,
   "metadata": {},
   "outputs": [],
   "source": [
    "# !python -m spacy download en_core_web_lg\n"
   ]
  },
  {
   "cell_type": "code",
   "execution_count": 812,
   "metadata": {},
   "outputs": [],
   "source": [
    "# !pip install PyPDF2"
   ]
  },
  {
   "cell_type": "markdown",
   "metadata": {},
   "source": [
    "### Load skill data"
   ]
  },
  {
   "cell_type": "code",
   "execution_count": 859,
   "metadata": {},
   "outputs": [],
   "source": [
    "import re\n",
    "import fitz\n",
    "import spacy\n",
    "from spacy.lang.en.stop_words import STOP_WORDS\n",
    "from spacy.matcher import Matcher\n"
   ]
  },
  {
   "cell_type": "markdown",
   "metadata": {},
   "source": [
    "##### Text Extraction \n",
    "Extracts text from a PDF resume file using PyMuPDF"
   ]
  },
  {
   "cell_type": "code",
   "execution_count": 860,
   "metadata": {},
   "outputs": [],
   "source": [
    "text = ''\n",
    "doc = fitz.open('data/sample.pdf') # open a document\n",
    "for page in doc: # iterate the document pages\n",
    "  text += ' '+page.get_text() # get plain text encoded as UTF-8\n",
    "\n"
   ]
  },
  {
   "cell_type": "code",
   "execution_count": 861,
   "metadata": {},
   "outputs": [],
   "source": [
    "nlp = spacy.load(\"en_core_web_sm\")\n",
    "doc = nlp(text)"
   ]
  },
  {
   "cell_type": "markdown",
   "metadata": {},
   "source": [
    "##### Preprocessing"
   ]
  },
  {
   "cell_type": "markdown",
   "metadata": {},
   "source": [
    "Performs text preprocessing on the spaCy Doc object, including lemmatization, lowercasing and removal of stopwords, punctuation, symbols, and spaces."
   ]
  },
  {
   "cell_type": "code",
   "execution_count": 876,
   "metadata": {},
   "outputs": [],
   "source": [
    "def preprocessing(doc):\n",
    "    stopwords    = list(STOP_WORDS)\n",
    "    clean_tokens = []\n",
    "    for token in doc:\n",
    "        if token.text not in stopwords and token.pos_ != 'PUNCT' and token.pos_ != 'SYM' and \\\n",
    "            token.pos_ != 'SPACE':\n",
    "                processed_text = re.sub(\n",
    "                    '[^a-zA-Z0-9@( )\\s-]',\n",
    "                    \" \",\n",
    "                token.lemma_)\n",
    "                processed_text = processed_text.lower().strip()\n",
    "                clean_tokens.append(processed_text)\n",
    "    return \" \".join(clean_tokens)\n",
    "        \n",
    "        "
   ]
  },
  {
   "cell_type": "code",
   "execution_count": 877,
   "metadata": {},
   "outputs": [
    {
     "name": "stdout",
     "output_type": "stream",
     "text": [
      "copyright @template net strong experience work web design software include dreamweaver indesign flash etc familiarity health system health care organization familiarity quarkxpress indesign photoshop illustrator flash powerpoint word excel outlook outstanding knowledge graphic design computer software exceptional knowledge adobe acrobat illustrator photoshop indesign program mac platform profound knowledge website design animation experience web base advertising sound knowledge social networking channel proficient understanding branding work witgraphicstandards style sheet develop right product client extreme ability plan design create electronic artwork variety project job concept completion kathy j hughe graphic design artist contact professional skill career objective 3929 worley avenue lynchburg va 24501 434)-426 9987 kathy@jklmail com kathy com strong experience work web design software include dreamweaver indesign flash etc exceptional knowledge adobe acrobat illustrator photoshop indesign program mac platform familiarity health system health care organization sound knowledge social networking channel proficient understanding branding work graphic standard style sheet proficient develop right product client extreme ability plan design create electronic artwork variety project job concept completion profound knowledge website design animation experience web base advertising outstanding knowledge graphic design computer software familiarity quarkxpress indesign photoshop illustrator flash powerpoint word excel outlook obtain graphic design artist position challenge help organization continue successful copyright @template net coordinate phase graphic design print production process large format signage print collateral ephemera web banner ad perform routine clean preventative maintenance graphic equipment coordinate maintenance vendor repair assist creation implementation department procedure provide technical support graphic procedure training account specialist customer service representative require utilize personal computer graphic software generate electronic artwork revise exist artwork meet customer specification create material alignment client brand style requirement create artwork plate ready negative customer supply artwork concept produce illustration document associate scientific engineering activity collaborate communication team client partner develop launch brand logo image style guide complete project coordinate outside agency art service printer etc establish positive work relationship representative community organization state local agency association city management staff public contact work experience proficiency education 3929 worley avenue lynchburg va 24501 434)-426 9987 kathy@jklmail com kathy com graphic design artist 2016 present creative group blizzard entertainment graphic design artist 2014 2016 cannon design graphic design artist 2012 2014 bachelor degree fine art 2012 grocery buyer 2016 present sprout farmer market coordinate phase graphic design print production process large format signage print collateral ephemera web banner ad perform routine clean preventative maintenance graphic equipment coordinate maintenance vendor repair assist creation implementation department procedure provide technical support graphic procedure t rain account specialist customer service representative require utilize personal computer graphic software generate electronic artwork revise exist artwork meet customer specification create material alignment client brand style requirement create artwork plate ready negative customer supply artwork concept produce illustration document associate scientific engineering activity collaborate communication team client partner develop launch brand logo image style guide complete project coordinate outside agency art service printer etc establish positive work relationship representative community organization state local agency association city management staff public oaw planning team evaluation management paperwork leadership\n"
     ]
    }
   ],
   "source": [
    "processed_text = preprocessing(doc)\n",
    "print(processed_text)"
   ]
  },
  {
   "cell_type": "markdown",
   "metadata": {},
   "source": [
    "##### Email Extraction"
   ]
  },
  {
   "cell_type": "markdown",
   "metadata": {},
   "source": [
    "Extracts the email address from the spaCy token with the help of **like_email** method of spacy. "
   ]
  },
  {
   "cell_type": "code",
   "execution_count": 878,
   "metadata": {},
   "outputs": [],
   "source": [
    "def extract_email(doc):\n",
    "    for token in doc:\n",
    "        if token.like_email:\n",
    "            return token.text\n",
    "        else:\n",
    "            email = None\n",
    "    return email\n",
    "\n",
    "extract_email(doc)"
   ]
  },
  {
   "cell_type": "markdown",
   "metadata": {},
   "source": [
    "##### Phone Number Extraction"
   ]
  },
  {
   "cell_type": "markdown",
   "metadata": {},
   "source": [
    "Extracts the all types of phone number from the provided text using a regular expression."
   ]
  },
  {
   "cell_type": "code",
   "execution_count": 879,
   "metadata": {},
   "outputs": [],
   "source": [
    "def extract_phone_number(text):\n",
    "    phone_number_pattern = re.compile(\n",
    "        r'(?:(?:\\+\\d{1,2}\\s?)?[\\(\\[\\{]?\\d{3}[\\)\\]\\}]?[\\s\\-]?\\d{3}[\\s\\-]?\\d{4})|'\n",
    "        r'(?:\\d{3}[\\s\\-]?\\d{3}[\\s\\-]?\\d{4})|'\n",
    "        r'(?:\\(\\d{3}\\)\\s?\\d{3}[\\s\\-]?\\d{4})'\n",
    "    )\n",
    "    matches = re.findall(phone_number_pattern, text)\n",
    "    if matches:\n",
    "        return matches[0]\n",
    "    else:\n",
    "        return None"
   ]
  },
  {
   "cell_type": "code",
   "execution_count": 880,
   "metadata": {},
   "outputs": [
    {
     "data": {
      "text/plain": [
       "'434)-426 9987'"
      ]
     },
     "execution_count": 880,
     "metadata": {},
     "output_type": "execute_result"
    }
   ],
   "source": [
    "extract_phone_number(processed_text)"
   ]
  },
  {
   "cell_type": "markdown",
   "metadata": {},
   "source": [
    "##### Skill Extraction"
   ]
  },
  {
   "cell_type": "markdown",
   "metadata": {},
   "source": [
    "Extracts skills from the text using an spacy's entity ruler. With the help of **skills.jsonl** file ruler is added to spacy object\n",
    "Also preprocessing is performed.\n"
   ]
  },
  {
   "cell_type": "code",
   "execution_count": 881,
   "metadata": {},
   "outputs": [],
   "source": [
    "def extract_skills(text):\n",
    "    skill_path = 'skills.jsonl'\n",
    "    try:\n",
    "        ruler = nlp.add_pipe(\"entity_ruler\")\n",
    "        ruler.from_disk(skill_path)\n",
    "    except ValueError:\n",
    "        pass\n",
    "    try:\n",
    "        doc = nlp(text)\n",
    "        skills = list(doc.ents)\n",
    "        gpe_entities = [ent.text for ent in doc.ents if ent.label_ == \"GPE\"]\n",
    "        gpe_entities = [gpe.lower() for gpe in gpe_entities]\n",
    "        skills = [sk.text for sk in skills if sk.text.lower() not in gpe_entities]\n",
    "        skills = list(set(skills))\n",
    "        if skills:\n",
    "            pattern2 = \"(\\d{1})\"\n",
    "            skills =  [sk for sk in skills if len(re.findall(pattern2, sk)) < 2]\n",
    "            return skills\n",
    "        else:\n",
    "            return []\n",
    "    except:\n",
    "        return []\n",
    " "
   ]
  },
  {
   "cell_type": "code",
   "execution_count": 882,
   "metadata": {},
   "outputs": [
    {
     "name": "stderr",
     "output_type": "stream",
     "text": [
      "c:\\Users\\PREDATOR\\Music\\ML_project\\nlp\\nlp-assignment-a3\\.conda\\lib\\site-packages\\spacy\\pipeline\\entityruler.py:405: UserWarning: [W036] The component 'entity_ruler' does not have any patterns defined.\n",
      "  warnings.warn(Warnings.W036.format(name=self.name))\n"
     ]
    },
    {
     "data": {
      "text/plain": [
       "['lynchburg va', 'mac platform familiarity']"
      ]
     },
     "execution_count": 882,
     "metadata": {},
     "output_type": "execute_result"
    }
   ],
   "source": [
    "extract_skills(processed_text)"
   ]
  },
  {
   "cell_type": "markdown",
   "metadata": {},
   "source": [
    "##### Address Extraction"
   ]
  },
  {
   "cell_type": "markdown",
   "metadata": {},
   "source": [
    "Extracts the address from the text with the help of spacy ner **GPE**.\n"
   ]
  },
  {
   "cell_type": "code",
   "execution_count": 869,
   "metadata": {},
   "outputs": [
    {
     "name": "stderr",
     "output_type": "stream",
     "text": [
      "c:\\Users\\PREDATOR\\Music\\ML_project\\nlp\\nlp-assignment-a3\\.conda\\lib\\site-packages\\spacy\\pipeline\\entityruler.py:405: UserWarning: [W036] The component 'entity_ruler' does not have any patterns defined.\n",
      "  warnings.warn(Warnings.W036.format(name=self.name))\n"
     ]
    }
   ],
   "source": [
    "def extract_address(text):\n",
    "    doc = nlp(text)\n",
    "    address = [ent.text for ent in doc.ents if ent.label_ == \"GPE\"]\n",
    "    if address:\n",
    "        return ' '.join(list(set(address[:3])))\n",
    "    else:\n",
    "        return None\n",
    "    \n",
    "extract_address(processed_text)"
   ]
  },
  {
   "cell_type": "markdown",
   "metadata": {},
   "source": [
    "##### Certification Extraction"
   ]
  },
  {
   "cell_type": "markdown",
   "metadata": {},
   "source": [
    "Extracts certifications and their details from the provided text using a Matcher. Also date filter is applied to get the certification data and also to slice the title text."
   ]
  },
  {
   "cell_type": "code",
   "execution_count": 883,
   "metadata": {},
   "outputs": [
    {
     "name": "stdout",
     "output_type": "stream",
     "text": [
      "[]\n"
     ]
    },
    {
     "name": "stderr",
     "output_type": "stream",
     "text": [
      "c:\\Users\\PREDATOR\\Music\\ML_project\\nlp\\nlp-assignment-a3\\.conda\\lib\\site-packages\\spacy\\pipeline\\entityruler.py:405: UserWarning: [W036] The component 'entity_ruler' does not have any patterns defined.\n",
      "  warnings.warn(Warnings.W036.format(name=self.name))\n"
     ]
    },
    {
     "data": {
      "text/plain": [
       "[]"
      ]
     },
     "execution_count": 883,
     "metadata": {},
     "output_type": "execute_result"
    }
   ],
   "source": [
    "def extract_certifications(text):\n",
    "    matcher = Matcher(nlp.vocab)\n",
    "    #pattern\n",
    "    certification_pattern = [\n",
    "        {\"LOWER\": {\"in\": [\"certification\", \"certificate\", \"course\", \"certifications\"]}}, \n",
    "        {\"ENT_TYPE\": {\"in\": [\"ORG\", \"PRODUCT\"]}, \"OP\": \"?\"}, \n",
    "        {\"ENT_TYPE\": \"DATE\", \"OP\": \"?\"},\n",
    "    ]\n",
    "    matcher.add(\"CertificationPattern\", [certification_pattern])\n",
    "    doc = nlp(text)\n",
    "    matches = matcher(doc)\n",
    "    matched_spans = [doc[start:] for match_id, start, end in matches]\n",
    "    print(matched_spans)\n",
    "    certificates = []\n",
    "    if matched_spans:\n",
    "        for span in matched_spans:\n",
    "            # print(span.text)\n",
    "            cert_details = {}\n",
    "            matched_cert = span.text\n",
    "            doc = nlp(matched_cert)\n",
    "            for ent in doc.ents:\n",
    "                if ent.label_ == 'DATE':\n",
    "                    date_span = span.text.find(ent.text)\n",
    "                    cert_details['title'] = span.text[9:date_span]\n",
    "                    cert_details['date'] = ent.text\n",
    "                    certificates.append(cert_details)\n",
    "                    break\n",
    "                else:\n",
    "                    cert_details['title'] = span.text[:5]\n",
    "                    cert_details['date'] = None\n",
    "        return certificates\n",
    "    else:\n",
    "        return certificates\n",
    "    \n",
    "extract_certifications(processed_text)"
   ]
  },
  {
   "cell_type": "code",
   "execution_count": 884,
   "metadata": {},
   "outputs": [
    {
     "name": "stderr",
     "output_type": "stream",
     "text": [
      "c:\\Users\\PREDATOR\\Music\\ML_project\\nlp\\nlp-assignment-a3\\.conda\\lib\\site-packages\\spacy\\pipeline\\entityruler.py:405: UserWarning: [W036] The component 'entity_ruler' does not have any patterns defined.\n",
      "  warnings.warn(Warnings.W036.format(name=self.name))\n"
     ]
    },
    {
     "data": {
      "text/html": [
       "<span class=\"tex2jax_ignore\"><div class=\"entities\" style=\"line-height: 2.5; direction: ltr\">copyright @template net strong experience work web design software include dreamweaver indesign flash etc familiarity health system health care organization familiarity quarkxpress indesign photoshop illustrator flash powerpoint word excel outlook outstanding knowledge graphic design computer software exceptional knowledge adobe acrobat illustrator photoshop indesign program mac platform profound knowledge website design animation experience web base advertising sound knowledge social networking channel proficient understanding branding work witgraphicstandards style sheet develop right product client extreme ability plan design create electronic artwork variety project job concept completion kathy j hughe graphic design artist contact professional skill career objective \n",
       "<mark class=\"entity\" style=\"background: #e4e7d2; padding: 0.45em 0.6em; margin: 0 0.25em; line-height: 1; border-radius: 0.35em;\">\n",
       "    3929\n",
       "    <span style=\"font-size: 0.8em; font-weight: bold; line-height: 1; border-radius: 0.35em; vertical-align: middle; margin-left: 0.5rem\">CARDINAL</span>\n",
       "</mark>\n",
       " worley avenue \n",
       "<mark class=\"entity\" style=\"background: #ff9561; padding: 0.45em 0.6em; margin: 0 0.25em; line-height: 1; border-radius: 0.35em;\">\n",
       "    lynchburg va\n",
       "    <span style=\"font-size: 0.8em; font-weight: bold; line-height: 1; border-radius: 0.35em; vertical-align: middle; margin-left: 0.5rem\">LOC</span>\n",
       "</mark>\n",
       " \n",
       "<mark class=\"entity\" style=\"background: linear-gradient(90deg, #aa9cfc, #fc9ce7); padding: 0.45em 0.6em; margin: 0 0.25em; line-height: 1; border-radius: 0.35em;\">\n",
       "    24501\n",
       "    <span style=\"font-size: 0.8em; font-weight: bold; line-height: 1; border-radius: 0.35em; vertical-align: middle; margin-left: 0.5rem\">DATE</span>\n",
       "</mark>\n",
       " 434)-426 \n",
       "<mark class=\"entity\" style=\"background: linear-gradient(90deg, #aa9cfc, #fc9ce7); padding: 0.45em 0.6em; margin: 0 0.25em; line-height: 1; border-radius: 0.35em;\">\n",
       "    9987\n",
       "    <span style=\"font-size: 0.8em; font-weight: bold; line-height: 1; border-radius: 0.35em; vertical-align: middle; margin-left: 0.5rem\">DATE</span>\n",
       "</mark>\n",
       " kathy@jklmail com kathy com strong experience work web design software include dreamweaver indesign flash etc exceptional knowledge adobe acrobat illustrator photoshop indesign program \n",
       "<mark class=\"entity\" style=\"background: #aa9cfc; padding: 0.45em 0.6em; margin: 0 0.25em; line-height: 1; border-radius: 0.35em;\">\n",
       "    mac platform familiarity\n",
       "    <span style=\"font-size: 0.8em; font-weight: bold; line-height: 1; border-radius: 0.35em; vertical-align: middle; margin-left: 0.5rem\">PERSON</span>\n",
       "</mark>\n",
       " health system health care organization sound knowledge social networking channel proficient understanding branding work graphic standard style sheet proficient develop right product client extreme ability plan design create electronic artwork variety project job concept completion profound knowledge website design animation experience web base advertising outstanding knowledge graphic design computer software familiarity quarkxpress indesign photoshop illustrator flash powerpoint word excel outlook obtain graphic design artist position challenge help organization continue successful copyright @template net coordinate phase graphic design print production process large format signage print collateral ephemera web banner ad perform routine clean preventative maintenance graphic equipment coordinate maintenance vendor repair assist creation implementation department procedure provide technical support graphic procedure training account specialist customer service representative require utilize personal computer graphic software generate electronic artwork revise exist artwork meet customer specification create material alignment client brand style requirement create artwork plate ready negative customer supply artwork concept produce illustration document associate scientific engineering activity collaborate communication team client partner develop launch brand logo image style guide complete project coordinate outside agency art service printer etc establish positive work relationship representative community organization state local agency association city management staff public contact work experience proficiency education \n",
       "<mark class=\"entity\" style=\"background: #e4e7d2; padding: 0.45em 0.6em; margin: 0 0.25em; line-height: 1; border-radius: 0.35em;\">\n",
       "    3929\n",
       "    <span style=\"font-size: 0.8em; font-weight: bold; line-height: 1; border-radius: 0.35em; vertical-align: middle; margin-left: 0.5rem\">CARDINAL</span>\n",
       "</mark>\n",
       " worley avenue \n",
       "<mark class=\"entity\" style=\"background: #ff9561; padding: 0.45em 0.6em; margin: 0 0.25em; line-height: 1; border-radius: 0.35em;\">\n",
       "    lynchburg va\n",
       "    <span style=\"font-size: 0.8em; font-weight: bold; line-height: 1; border-radius: 0.35em; vertical-align: middle; margin-left: 0.5rem\">LOC</span>\n",
       "</mark>\n",
       " \n",
       "<mark class=\"entity\" style=\"background: linear-gradient(90deg, #aa9cfc, #fc9ce7); padding: 0.45em 0.6em; margin: 0 0.25em; line-height: 1; border-radius: 0.35em;\">\n",
       "    24501\n",
       "    <span style=\"font-size: 0.8em; font-weight: bold; line-height: 1; border-radius: 0.35em; vertical-align: middle; margin-left: 0.5rem\">DATE</span>\n",
       "</mark>\n",
       " 434)-426 \n",
       "<mark class=\"entity\" style=\"background: linear-gradient(90deg, #aa9cfc, #fc9ce7); padding: 0.45em 0.6em; margin: 0 0.25em; line-height: 1; border-radius: 0.35em;\">\n",
       "    9987\n",
       "    <span style=\"font-size: 0.8em; font-weight: bold; line-height: 1; border-radius: 0.35em; vertical-align: middle; margin-left: 0.5rem\">DATE</span>\n",
       "</mark>\n",
       " kathy@jklmail com kathy com graphic design artist \n",
       "<mark class=\"entity\" style=\"background: linear-gradient(90deg, #aa9cfc, #fc9ce7); padding: 0.45em 0.6em; margin: 0 0.25em; line-height: 1; border-radius: 0.35em;\">\n",
       "    2016\n",
       "    <span style=\"font-size: 0.8em; font-weight: bold; line-height: 1; border-radius: 0.35em; vertical-align: middle; margin-left: 0.5rem\">DATE</span>\n",
       "</mark>\n",
       " present creative group blizzard entertainment graphic design artist \n",
       "<mark class=\"entity\" style=\"background: linear-gradient(90deg, #aa9cfc, #fc9ce7); padding: 0.45em 0.6em; margin: 0 0.25em; line-height: 1; border-radius: 0.35em;\">\n",
       "    2014 2016\n",
       "    <span style=\"font-size: 0.8em; font-weight: bold; line-height: 1; border-radius: 0.35em; vertical-align: middle; margin-left: 0.5rem\">DATE</span>\n",
       "</mark>\n",
       " cannon design graphic design artist \n",
       "<mark class=\"entity\" style=\"background: linear-gradient(90deg, #aa9cfc, #fc9ce7); padding: 0.45em 0.6em; margin: 0 0.25em; line-height: 1; border-radius: 0.35em;\">\n",
       "    2012 2014\n",
       "    <span style=\"font-size: 0.8em; font-weight: bold; line-height: 1; border-radius: 0.35em; vertical-align: middle; margin-left: 0.5rem\">DATE</span>\n",
       "</mark>\n",
       " bachelor degree fine art \n",
       "<mark class=\"entity\" style=\"background: linear-gradient(90deg, #aa9cfc, #fc9ce7); padding: 0.45em 0.6em; margin: 0 0.25em; line-height: 1; border-radius: 0.35em;\">\n",
       "    2012\n",
       "    <span style=\"font-size: 0.8em; font-weight: bold; line-height: 1; border-radius: 0.35em; vertical-align: middle; margin-left: 0.5rem\">DATE</span>\n",
       "</mark>\n",
       " grocery buyer \n",
       "<mark class=\"entity\" style=\"background: linear-gradient(90deg, #aa9cfc, #fc9ce7); padding: 0.45em 0.6em; margin: 0 0.25em; line-height: 1; border-radius: 0.35em;\">\n",
       "    2016\n",
       "    <span style=\"font-size: 0.8em; font-weight: bold; line-height: 1; border-radius: 0.35em; vertical-align: middle; margin-left: 0.5rem\">DATE</span>\n",
       "</mark>\n",
       " present sprout farmer market coordinate phase graphic design print production process large format signage print collateral ephemera web banner ad perform routine clean preventative maintenance graphic equipment coordinate maintenance vendor repair assist creation implementation department procedure provide technical support graphic procedure t rain account specialist customer service representative require utilize personal computer graphic software generate electronic artwork revise exist artwork meet customer specification create material alignment client brand style requirement create artwork plate ready negative customer supply artwork concept produce illustration document associate scientific engineering activity collaborate communication team client partner develop launch brand logo image style guide complete project coordinate outside agency art service printer etc establish positive work relationship representative community organization state local agency association city management staff public oaw planning team evaluation management paperwork leadership</div></span>"
      ],
      "text/plain": [
       "<IPython.core.display.HTML object>"
      ]
     },
     "metadata": {},
     "output_type": "display_data"
    }
   ],
   "source": [
    "from spacy import displacy\n",
    "colors = {\"DATE\": \"linear-gradient(90deg, #aa9cfc, #fc9ce7)\"}\n",
    "options = {\"colors\": colors}\n",
    "doc = nlp(processed_text)\n",
    "displacy.render(doc, style='ent', options=options)"
   ]
  },
  {
   "cell_type": "markdown",
   "metadata": {},
   "source": [
    "### Putting it all together"
   ]
  },
  {
   "cell_type": "code",
   "execution_count": 885,
   "metadata": {},
   "outputs": [],
   "source": [
    "class ResumeParser:\n",
    "    def __init__(self):\n",
    "        self.nlp = spacy.load(\"en_core_web_sm\")\n",
    "\n",
    "    def extract_pdf(self):\n",
    "        resume_text = ''\n",
    "        doc = fitz.open('data/sample.pdf')\n",
    "        for page in doc:\n",
    "            resume_text += ' '+page.get_text()\n",
    "        return resume_text\n",
    "    \n",
    "    def preprocessing(self, doc):\n",
    "        stopwords    = list(STOP_WORDS)\n",
    "        clean_tokens = []\n",
    "        for token in doc:\n",
    "            if token.text not in stopwords and token.pos_ != 'PUNCT' and token.pos_ != 'SYM' and \\\n",
    "                token.pos_ != 'SPACE':\n",
    "                    processed_text = re.sub(\n",
    "                        '[^a-zA-Z0-9@( )\\s-]',\n",
    "                        \" \",\n",
    "                    token.lemma_)\n",
    "                    processed_text = processed_text.lower().strip()\n",
    "                    clean_tokens.append(processed_text)\n",
    "        return \" \".join(clean_tokens)\n",
    "    \n",
    "    def extract_email(self, doc):\n",
    "        for token in doc:\n",
    "            if token.like_email:\n",
    "                return token.text\n",
    "            else:\n",
    "                email = None\n",
    "        return email\n",
    "    \n",
    "    def extract_phone_number(self, text):\n",
    "        phone_number_pattern = re.compile(\n",
    "            r'(?:(?:\\+\\d{1,2}\\s?)?[\\(\\[\\{]?\\d{3}[\\)\\]\\}]?[\\s\\-]?\\d{3}[\\s\\-]?\\d{4})|'\n",
    "            r'(?:\\d{3}[\\s\\-]?\\d{3}[\\s\\-]?\\d{4})|'\n",
    "            r'(?:\\(\\d{3}\\)\\s?\\d{3}[\\s\\-]?\\d{4})'\n",
    "        )\n",
    "        matches = re.findall(phone_number_pattern, text)\n",
    "        if matches:\n",
    "            return matches[0]\n",
    "        else:\n",
    "            return None\n",
    "    \n",
    "    def extract_address(self, doc):\n",
    "        # doc = self.nlp(text)\n",
    "        address = [ent.text for ent in doc.ents if ent.label_ == \"GPE\"]\n",
    "        if address:\n",
    "            return ' '.join(list(set(address[:3])))\n",
    "        else:\n",
    "            return None\n",
    "    \n",
    "    def extract_skills(self, text):\n",
    "        skill_path = 'skills.jsonl'\n",
    "        try:\n",
    "            ruler = self.nlp.add_pipe(\"entity_ruler\")\n",
    "            ruler.from_disk(skill_path)\n",
    "        except ValueError:\n",
    "            pass\n",
    "        try:\n",
    "            doc = self.nlp(text)\n",
    "            skills = list(doc.ents)\n",
    "            gpe_entities = [ent.text for ent in doc.ents if ent.label_ == \"GPE\"]\n",
    "            gpe_entities = [gpe.lower() for gpe in gpe_entities]\n",
    "            skills = [sk.text for sk in skills if sk.text.lower() not in gpe_entities]\n",
    "            skills = list(set(skills))\n",
    "            if skills:\n",
    "                pattern2 = \"(\\d{1})\"\n",
    "                skills =  [sk for sk in skills if len(re.findall(pattern2, sk)) < 2]\n",
    "                return [sk for sk in skills if len(sk) > 2]\n",
    "                # print(n_skills)\n",
    "                # return [sk for sk in skills if len([sk in string.digits]) > 1 == True]\n",
    "            else:\n",
    "                return []\n",
    "        except:\n",
    "            return []\n",
    "        \n",
    "    def extract_certifications(self, text):\n",
    "        matcher = Matcher(self.nlp.vocab)\n",
    "        #pattern\n",
    "        certification_pattern = [\n",
    "            {\"LOWER\": {\"in\": [\"certification\", \"certificate\", \"course\", \"certifications\"]}}, \n",
    "            {\"ENT_TYPE\": {\"in\": [\"ORG\", \"PRODUCT\"]}, \"OP\": \"?\"}, \n",
    "            {\"ENT_TYPE\": \"DATE\", \"OP\": \"?\"},\n",
    "        ]\n",
    "        matcher.add(\"CertificationPattern\", [certification_pattern])\n",
    "        doc = nlp(text)\n",
    "        matches = matcher(doc)\n",
    "        matched_spans = [doc[start:] for match_id, start, end in matches]\n",
    "        certificates = []\n",
    "        if matched_spans:\n",
    "            for span in matched_spans:\n",
    "                # print(span.text)\n",
    "                cert_details = {}\n",
    "                matched_cert = span.text\n",
    "                doc = nlp(matched_cert)\n",
    "                for ent in doc.ents:\n",
    "                    if ent.label_ == 'DATE':\n",
    "                        date_span = span.text.find(ent.text)\n",
    "                        cert_details['title'] = span.text[:date_span]\n",
    "                        cert_details['date'] = ent.text\n",
    "                        certificates.append(cert_details)\n",
    "                        break\n",
    "                    else:\n",
    "                        cert_details['title'] = span.text[:5]\n",
    "                        cert_details['date'] = None\n",
    "            return certificates\n",
    "        else:\n",
    "            return certificates\n",
    "\n",
    "    def parse(self):\n",
    "        resume_details = {}\n",
    "        resume_text = self.extract_pdf()\n",
    "        doc = self.nlp(resume_text)\n",
    "        processed_text = self.preprocessing(doc)\n",
    "        resume_details['email'] = self.extract_email(doc) \n",
    "        resume_details['phone_number'] = self.extract_phone_number(processed_text)\n",
    "        resume_details['address'] = self.extract_address(doc)\n",
    "        resume_details['skills'] = self.extract_skills(processed_text)\n",
    "        resume_details['certifications'] = self.extract_certifications(processed_text)\n",
    "        return  resume_details\n",
    "        \n"
   ]
  },
  {
   "cell_type": "code",
   "execution_count": 886,
   "metadata": {},
   "outputs": [
    {
     "name": "stdout",
     "output_type": "stream",
     "text": [
      "{'email': 'kathy@jklmail.com', 'phone_number': '434)-426 9987', 'address': 'Profound Lynchburg', 'skills': ['lynchburg va', 'mac platform', 'mac platform familiarity'], 'certifications': []}\n"
     ]
    },
    {
     "name": "stderr",
     "output_type": "stream",
     "text": [
      "c:\\Users\\PREDATOR\\Music\\ML_project\\nlp\\nlp-assignment-a3\\.conda\\lib\\site-packages\\spacy\\pipeline\\entityruler.py:405: UserWarning: [W036] The component 'entity_ruler' does not have any patterns defined.\n",
      "  warnings.warn(Warnings.W036.format(name=self.name))\n",
      "c:\\Users\\PREDATOR\\Music\\ML_project\\nlp\\nlp-assignment-a3\\.conda\\lib\\site-packages\\spacy\\pipeline\\entityruler.py:405: UserWarning: [W036] The component 'entity_ruler' does not have any patterns defined.\n",
      "  warnings.warn(Warnings.W036.format(name=self.name))\n"
     ]
    }
   ],
   "source": [
    "parser = ResumeParser()\n",
    "print(parser.parse())"
   ]
  },
  {
   "cell_type": "code",
   "execution_count": null,
   "metadata": {},
   "outputs": [],
   "source": []
  }
 ],
 "metadata": {
  "kernelspec": {
   "display_name": "Python 3",
   "language": "python",
   "name": "python3"
  },
  "language_info": {
   "codemirror_mode": {
    "name": "ipython",
    "version": 3
   },
   "file_extension": ".py",
   "mimetype": "text/x-python",
   "name": "python",
   "nbconvert_exporter": "python",
   "pygments_lexer": "ipython3",
   "version": "3.10.13"
  }
 },
 "nbformat": 4,
 "nbformat_minor": 2
}
